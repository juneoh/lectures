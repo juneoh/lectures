{
 "cells": [
  {
   "cell_type": "markdown",
   "metadata": {},
   "source": [
    "# Hello Python\n",
    "\n",
    "Welcome to Jupyter Notebook! Here, you can execute each 'cell' of code by\n",
    "pressing 'shift+enter'. If something gets messed up, go to the 'Kernel' menu\n",
    "and press 'Restart and clear outputs'.\n",
    "\n",
    "## Functions\n",
    "\n",
    "Define a function:"
   ]
  },
  {
   "cell_type": "code",
   "execution_count": null,
   "metadata": {},
   "outputs": [],
   "source": [
    "def print_hello():\n",
    "    print('Hello')"
   ]
  },
  {
   "cell_type": "markdown",
   "metadata": {},
   "source": [
    "See the 4-space indent in the second line of the code? It means that the line\n",
    "belongs to the line starting with `def`, as in a hierarchy.\n",
    "\n",
    "Call the defined function:"
   ]
  },
  {
   "cell_type": "code",
   "execution_count": null,
   "metadata": {},
   "outputs": [],
   "source": [
    "print_hello()"
   ]
  },
  {
   "cell_type": "markdown",
   "metadata": {},
   "source": [
    "Define a function that returns something:"
   ]
  },
  {
   "cell_type": "code",
   "execution_count": 3,
   "metadata": {},
   "outputs": [],
   "source": [
    "def return_one():\n",
    "    return 1"
   ]
  },
  {
   "cell_type": "markdown",
   "metadata": {},
   "source": [
    "Call the function and see what it gives:"
   ]
  },
  {
   "cell_type": "code",
   "execution_count": 4,
   "metadata": {},
   "outputs": [
    {
     "data": {
      "text/plain": [
       "1"
      ]
     },
     "execution_count": 4,
     "metadata": {},
     "output_type": "execute_result"
    }
   ],
   "source": [
    "return_one()"
   ]
  },
  {
   "cell_type": "markdown",
   "metadata": {},
   "source": [
    "Define a function that receives an argument:"
   ]
  },
  {
   "cell_type": "code",
   "execution_count": 5,
   "metadata": {},
   "outputs": [
    {
     "name": "stdout",
     "output_type": "stream",
     "text": [
      "Hello June\n"
     ]
    }
   ],
   "source": [
    "def print_hello_somebody(name):\n",
    "    print('Hello ' + name)\n",
    "\n",
    "print_hello_somebody('June')"
   ]
  },
  {
   "cell_type": "markdown",
   "metadata": {},
   "source": [
    "An error is raised if the expected argument is not provided:"
   ]
  },
  {
   "cell_type": "code",
   "execution_count": 6,
   "metadata": {},
   "outputs": [
    {
     "ename": "TypeError",
     "evalue": "print_hello_somebody() missing 1 required positional argument: 'name'",
     "output_type": "error",
     "traceback": [
      "\u001b[0;31m---------------------------------------------------------------------------\u001b[0m",
      "\u001b[0;31mTypeError\u001b[0m                                 Traceback (most recent call last)",
      "\u001b[0;32m<ipython-input-6-445d340d4e6a>\u001b[0m in \u001b[0;36m<module>\u001b[0;34m()\u001b[0m\n\u001b[0;32m----> 1\u001b[0;31m \u001b[0mprint_hello_somebody\u001b[0m\u001b[0;34m(\u001b[0m\u001b[0;34m)\u001b[0m\u001b[0;34m\u001b[0m\u001b[0m\n\u001b[0m",
      "\u001b[0;31mTypeError\u001b[0m: print_hello_somebody() missing 1 required positional argument: 'name'"
     ]
    }
   ],
   "source": [
    "print_hello_somebody()"
   ]
  },
  {
   "cell_type": "markdown",
   "metadata": {},
   "source": [
    "To omit arguments, the function needs to be defined with a default value:"
   ]
  },
  {
   "cell_type": "markdown",
   "metadata": {},
   "source": [
    "def print_hello_gorgeous(name='gorgeous'):\n",
    "    print('Hello ' + name)\n",
    "\n",
    "print_hello_somebody('June')\n",
    "print_hello_somebody()"
   ]
  },
  {
   "cell_type": "markdown",
   "metadata": {},
   "source": [
    "Define a function with multiple arguments:"
   ]
  },
  {
   "cell_type": "markdown",
   "metadata": {},
   "source": [
    "def print_hello_couple(name1, name2):\n",
    "    print('Hello ' + name1 + ' and ' + name2)\n",
    "\n",
    "print_hello_couple('Schumann', 'Clara')"
   ]
  },
  {
   "cell_type": "markdown",
   "metadata": {},
   "source": [
    "Argument keywords can be specified to alter the order:"
   ]
  },
  {
   "cell_type": "markdown",
   "metadata": {},
   "source": [
    "print_hello_couple(name2='Schumann', name1='Clara')"
   ]
  },
  {
   "cell_type": "markdown",
   "metadata": {},
   "source": [
    "But unknown argument keywords will raise an error:"
   ]
  },
  {
   "cell_type": "markdown",
   "metadata": {},
   "source": [
    "print_hello_couple(name1='Schumann', name2='Clara', name3='Brahms')"
   ]
  },
  {
   "cell_type": "markdown",
   "metadata": {},
   "source": [
    "In case of multiple arguments, arguments with default values must come after\n",
    "other arguments:"
   ]
  },
  {
   "cell_type": "markdown",
   "metadata": {},
   "source": [
    "def print_hello_couple_default(name1, name2='Clara'):\n",
    "    print('Hello ' + name1 + ' and ' + name2)"
   ]
  },
  {
   "cell_type": "markdown",
   "metadata": {},
   "source": [
    "Or else, the error:"
   ]
  },
  {
   "cell_type": "markdown",
   "metadata": {},
   "source": [
    "def print_hello_couple_wrong(name1='Clara', name2):\n",
    "    print('Hello ' + name1 + ' and ' + name2)"
   ]
  },
  {
   "cell_type": "markdown",
   "metadata": {},
   "source": [
    "Receive arbitrary number of argments as an iterable:"
   ]
  },
  {
   "cell_type": "markdown",
   "metadata": {},
   "source": [
    "def print_hello_many_people(*names):\n",
    "    for name in names:\n",
    "        print(name)\n",
    "\n",
    "print_hello_many_people('John', 'Jane', 'Brian')"
   ]
  },
  {
   "cell_type": "markdown",
   "metadata": {},
   "source": [
    "Receive arbitrary keyword arguments as a dictionary:"
   ]
  },
  {
   "cell_type": "markdown",
   "metadata": {},
   "source": [
    "def print_whatever(**kwargs):\n",
    "    for key, value in kwargs.items():\n",
    "        print(Key + ': ' + value)\n",
    "\n",
    "print_whatever(first_name='June', last_name='Oh')"
   ]
  },
  {
   "cell_type": "markdown",
   "metadata": {},
   "source": [
    "## Control statements\n",
    "\n",
    "### if\n",
    "\n",
    "Lines that belong to an `if` statement is executed based on the condition."
   ]
  },
  {
   "cell_type": "markdown",
   "metadata": {},
   "source": [
    "def print_if_positive(number):\n",
    "    if number >= 0:\n",
    "        print(number)\n",
    "\n",
    "print_if_positive(1)\n",
    "\n",
    "print_if_positive(-1)"
   ]
  },
  {
   "cell_type": "markdown",
   "metadata": {},
   "source": [
    "Multiple conditions can be combined using `and` or `or`."
   ]
  },
  {
   "cell_type": "markdown",
   "metadata": {},
   "source": [
    "def print_if_positive_or_even(number):\n",
    "    if (number >= 0) or (number % 2 == 0):\n",
    "        print(number)\n",
    "\n",
    "print_if_positive_or_even(1)\n",
    "\n",
    "print_if_positive_or_even(-1)\n",
    "\n",
    "print_if_positive_or_even(2)\n",
    "\n",
    "print_if_positive_or_even(-2)"
   ]
  },
  {
   "cell_type": "markdown",
   "metadata": {},
   "source": [
    "def print_if_positive_and_even(number):\n",
    "    if (number >= 0) and (number % 2 == 0):\n",
    "        print(number)\n",
    "\n",
    "print_if_positive_and_even(1)\n",
    "\n",
    "print_if_positive_and_even(-1)\n",
    "\n",
    "print_if_positive_and_even(2)\n",
    "\n",
    "print_if_positive_and_even(-2)"
   ]
  },
  {
   "cell_type": "markdown",
   "metadata": {},
   "source": [
    "`else` can follow `if`:"
   ]
  },
  {
   "cell_type": "markdown",
   "metadata": {},
   "source": [
    "def print_whether_positive_or_negative(number):\n",
    "    if number >= 0:\n",
    "        print('positive')\n",
    "    else:\n",
    "        print('negative')\n",
    "\n",
    "print_whether_positive_or_negative(1)\n",
    "\n",
    "print_whether_positive_or_negative(-1)"
   ]
  },
  {
   "cell_type": "markdown",
   "metadata": {},
   "source": [
    "`elif` can follow `if`."
   ]
  },
  {
   "cell_type": "markdown",
   "metadata": {},
   "source": [
    "def print_zero_positive_negative(number):\n",
    "    if number > 0:\n",
    "        print('positive')\n",
    "    elif number == 0:\n",
    "        print('zero')\n",
    "    else:\n",
    "        print('negative')\n",
    "\n",
    "print_zero_positive_negative(1)\n",
    "\n",
    "print_zero_positive_negative(0)\n",
    "\n",
    "print_zero_positive_negative(-1)"
   ]
  },
  {
   "cell_type": "markdown",
   "metadata": {},
   "source": [
    "### for\n",
    "\n",
    "You can loop iterables with `for` .. `in`:"
   ]
  },
  {
   "cell_type": "markdown",
   "metadata": {},
   "source": [
    "for i in (0, 1, 2):\n",
    "    print(i)"
   ]
  },
  {
   "cell_type": "markdown",
   "metadata": {},
   "source": [
    "### while\n",
    "\n",
    "You can loop while a condition is true:"
   ]
  },
  {
   "cell_type": "markdown",
   "metadata": {},
   "source": [
    "n = 0\n",
    "\n",
    "while n < 10:\n",
    "    n += 1\n",
    "\n",
    "print(n)"
   ]
  },
  {
   "cell_type": "markdown",
   "metadata": {},
   "source": [
    "## Variables\n",
    "\n",
    "A variable is a name that refers to a certain data."
   ]
  },
  {
   "cell_type": "markdown",
   "metadata": {},
   "source": [
    "a = 1\n",
    "print(a)"
   ]
  },
  {
   "cell_type": "markdown",
   "metadata": {},
   "source": [
    "a = 1\n",
    "a = a + 1\n",
    "print(a)"
   ]
  },
  {
   "cell_type": "markdown",
   "metadata": {},
   "source": [
    "### Data types\n",
    "\n",
    "#### String\n",
    "\n",
    "Strings are text. They must be wrapped either in single or double quotes."
   ]
  },
  {
   "cell_type": "markdown",
   "metadata": {},
   "source": [
    "print('He said, \"spam.\"')"
   ]
  },
  {
   "cell_type": "markdown",
   "metadata": {},
   "source": [
    "Strings within parenthesis are automatically combined."
   ]
  },
  {
   "cell_type": "markdown",
   "metadata": {},
   "source": [
    "print('Hello '\n",
    "      'June')"
   ]
  },
  {
   "cell_type": "markdown",
   "metadata": {},
   "source": [
    "Multiline strings must be wrapped in three single or double quotes."
   ]
  },
  {
   "cell_type": "markdown",
   "metadata": {},
   "source": [
    "print(\"\"\"Line 1\n",
    "Line2 \"\"\")"
   ]
  },
  {
   "cell_type": "markdown",
   "metadata": {},
   "source": [
    "#### Integer and float\n",
    "\n",
    "Integers in Python can be big."
   ]
  },
  {
   "cell_type": "markdown",
   "metadata": {},
   "source": [
    "1000 * 1000 * 1000 * 1000 * 1000 * 1000 * 1000"
   ]
  },
  {
   "cell_type": "markdown",
   "metadata": {},
   "source": [
    "Floating point numbers can also be long."
   ]
  },
  {
   "cell_type": "markdown",
   "metadata": {},
   "source": [
    "0.0000000000000000000000000000000000000000001"
   ]
  },
  {
   "cell_type": "markdown",
   "metadata": {},
   "source": [
    "Intergers and floats are automatically converted."
   ]
  },
  {
   "cell_type": "markdown",
   "metadata": {},
   "source": [
    "1 == 1.0\n",
    "\n",
    "1 / 2"
   ]
  },
  {
   "cell_type": "markdown",
   "metadata": {},
   "source": [
    "#### Boolean and `None`\n",
    "\n",
    "`True` and `False` are the boolean values in Python. `None` is for marking\n",
    "empty variables. Numbers below 0 and `None` are evaluated as `False`."
   ]
  },
  {
   "cell_type": "markdown",
   "metadata": {},
   "source": [
    "if None:\n",
    "    print('This will never be printed')"
   ]
  },
  {
   "cell_type": "markdown",
   "metadata": {},
   "source": [
    "`not` will make `False` turn into `True`."
   ]
  },
  {
   "cell_type": "markdown",
   "metadata": {},
   "source": [
    "if not False:\n",
    "    print('This will be printed.')"
   ]
  },
  {
   "cell_type": "markdown",
   "metadata": {},
   "source": [
    "#### List and tuple\n",
    "\n",
    "Lists and tuples are **iterables** that can hold multiple values with order.\n",
    "Lists are defined with square brackets (`[]`) with commas within, whereas\n",
    "tuples are defined with parentheses (`()`) with commas within."
   ]
  },
  {
   "cell_type": "markdown",
   "metadata": {},
   "source": [
    "numbers = [1, 2, 3]\n",
    "for number in numbers:\n",
    "    print(number)\n",
    "\n",
    "names = ('Bernstein', 'Karajan')\n",
    "for name in names:\n",
    "    print(name)"
   ]
  },
  {
   "cell_type": "markdown",
   "metadata": {},
   "source": [
    "Lists and tuples can be concatenated easily with the same type."
   ]
  },
  {
   "cell_type": "markdown",
   "metadata": {},
   "source": [
    "[0] + [1]\n",
    "(0,) + (1,)"
   ]
  },
  {
   "cell_type": "markdown",
   "metadata": {},
   "source": [
    "The difference between lists and tuples is that lists are **mutable** and tuples\n",
    "are **immutable**. What does that mean?\n",
    "\n",
    "### Mutability\n",
    "\n",
    "Consider the following scenario: there is a list, and another variable named\n",
    "`copy` is set to refers to the same list."
   ]
  },
  {
   "cell_type": "markdown",
   "metadata": {},
   "source": [
    "original = ['Bernstein']\n",
    "copy = original\n",
    "print(copy)"
   ]
  },
  {
   "cell_type": "markdown",
   "metadata": {},
   "source": [
    "Then, a new item is added to the original list:"
   ]
  },
  {
   "cell_type": "markdown",
   "metadata": {},
   "source": [
    "original += ['Karajan']\n",
    "print(original)"
   ]
  },
  {
   "cell_type": "markdown",
   "metadata": {},
   "source": [
    "The change can be confirmed buy viewing `copy`."
   ]
  },
  {
   "cell_type": "markdown",
   "metadata": {},
   "source": [
    "print(copy)"
   ]
  },
  {
   "cell_type": "markdown",
   "metadata": {},
   "source": [
    "This is because `original` and `copy` refer to the same list, the data in a\n",
    "memory space."
   ]
  },
  {
   "cell_type": "markdown",
   "metadata": {},
   "source": [
    "print(id(original))\n",
    "print(id(copy))"
   ]
  },
  {
   "cell_type": "markdown",
   "metadata": {},
   "source": [
    "Now, the same scenario is conducted with tuples:"
   ]
  },
  {
   "cell_type": "markdown",
   "metadata": {},
   "source": [
    "original = ('Bernstein')\n",
    "copy = original \n",
    "original += 'Karajan'"
   ]
  },
  {
   "cell_type": "markdown",
   "metadata": {},
   "source": [
    "Observe the result:"
   ]
  },
  {
   "cell_type": "markdown",
   "metadata": {},
   "source": [
    "print(original)\n",
    "print(copy)"
   ]
  },
  {
   "cell_type": "markdown",
   "metadata": {},
   "source": [
    "This is because when a new item as added, the resulting tuple was newly created\n",
    "into a new memory space, without changing (or \"mutating\") the actual data."
   ]
  },
  {
   "cell_type": "markdown",
   "metadata": {},
   "source": [
    "print(original)\n",
    "print(copy)"
   ]
  },
  {
   "cell_type": "markdown",
   "metadata": {},
   "source": [
    "Strings, integers, floats, booleans, `None`, and tuples are all immutable in\n",
    "Python. Lists and dictionaries are mutable.\n",
    "\n",
    "The core benefit of immutable objects is performance. Mutable objects are often\n",
    "implemented in interpreter level for fast allocation, and they can be hashed,\n",
    "which means they can be used to represent table indexes for fast lookup.\n",
    "\n",
    "#### Dictionary\n",
    "\n",
    "A dictionary is a table of data where a key can be used to store and retrieve\n",
    "corresponding value. They are defined using curly brackets (`{}`), colons, and\n",
    "commas."
   ]
  },
  {
   "cell_type": "markdown",
   "metadata": {},
   "source": [
    "me = {'first_name': 'June', 'last_name': 'Oh'}"
   ]
  },
  {
   "cell_type": "markdown",
   "metadata": {},
   "source": [
    "Here, `'first_name'` and `'last_name'` are keys, and `'June'` and `'Oh'` are the\n",
    "corresponding values. Values can be retrieved by square brackets (`[]`) that\n",
    "follow the variable name."
   ]
  },
  {
   "cell_type": "markdown",
   "metadata": {},
   "source": [
    "print(me['first_name'])"
   ]
  },
  {
   "cell_type": "markdown",
   "metadata": {},
   "source": [
    "New key-value pairs can be inserted into a dictionary in the same way."
   ]
  },
  {
   "cell_type": "markdown",
   "metadata": {},
   "source": [
    "me['gender'] = 'male'\n",
    "print(me)"
   ]
  },
  {
   "cell_type": "markdown",
   "metadata": {},
   "source": [
    "But an note of caution: only hashable values can be used as keys, and\n",
    "dictionary objects do not keep the order of items. This is because the\n",
    "dictionary actually uses the hash values of keys as local memory addresses.\n",
    "\n",
    "### Scope\n",
    "\n",
    "A variable outside a function can be read from inside."
   ]
  },
  {
   "cell_type": "markdown",
   "metadata": {},
   "source": [
    "a = 0\n",
    "\n",
    "def print_a():\n",
    "    print(a)\n",
    "\n",
    "print_a()\n",
    "a = 3\n",
    "print_a()"
   ]
  },
  {
   "cell_type": "markdown",
   "metadata": {},
   "source": [
    "However, the value of the variable cannot be altered from within a function."
   ]
  },
  {
   "cell_type": "markdown",
   "metadata": {},
   "source": [
    "a = 0\n",
    "\n",
    "def change_a():\n",
    "    a = 2\n",
    "\n",
    "change_a()\n",
    "print(a)"
   ]
  },
  {
   "cell_type": "markdown",
   "metadata": {},
   "source": [
    "Here, when `a` is set within `change_a()`, a new variable is created within the\n",
    "function.\n",
    "\n",
    "Of course, there is a `global` keywoard in Python that enables changing\n",
    "variables outside of the function, but it only very rarely justifiable.\n",
    "\n",
    "## Classes\n",
    "\n",
    "A **class** is a blueprint for creating a new type of variables. Classes are\n",
    "written in a similar way to dictionaries, and used like functions to create a\n",
    "new **instances**. The created instance inherits everything from the class."
   ]
  },
  {
   "cell_type": "markdown",
   "metadata": {},
   "source": [
    "class Me:\n",
    "    first_name = 'June'\n",
    "    last_name = 'Oh'\n",
    "\n",
    "me = Me()\n",
    "print(me.first_name)"
   ]
  },
  {
   "cell_type": "markdown",
   "metadata": {},
   "source": [
    "A class can not only contain variables (**properties**), but also contain\n",
    "functions (**methods**)."
   ]
  },
  {
   "cell_type": "markdown",
   "metadata": {},
   "source": [
    "class Me:\n",
    "    first_name = 'June'\n",
    "    last_name = 'Oh'\n",
    "\n",
    "    def introduce(self):\n",
    "        print('Hello, I am ' + self.first_name)\n",
    "\n",
    "me = Me()\n",
    "me.introduce()"
   ]
  },
  {
   "cell_type": "markdown",
   "metadata": {},
   "source": [
    "Notice that the function within the class `Me` takes an argument called `self`;\n",
    "Python automatically fills it with the instance itself. It must be the first\n",
    "argument of all methods. If that is satisfied, then other arguments can follow."
   ]
  },
  {
   "cell_type": "markdown",
   "metadata": {},
   "source": [
    "class Me:\n",
    "    first_name = 'June'\n",
    "    last_name = 'Oh'\n",
    "\n",
    "    def introduce_to(self, other):\n",
    "        print('Hello, ' + other + '. I am ' + self.first_name)\n",
    "\n",
    "me = Me()\n",
    "me.introduce_to('Jane')"
   ]
  },
  {
   "cell_type": "markdown",
   "metadata": {},
   "source": [
    "Classes can also receive arguments and do work during instantiation\n",
    "through special method called `__init__`."
   ]
  },
  {
   "cell_type": "markdown",
   "metadata": {},
   "source": [
    "class Me:\n",
    "    def __init__(self, name):\n",
    "        self.name = name\n",
    "\n",
    "me = Me('June')\n",
    "print(me.name)"
   ]
  },
  {
   "cell_type": "markdown",
   "metadata": {},
   "source": [
    "Classes are powerful because they can inherit from another."
   ]
  },
  {
   "cell_type": "markdown",
   "metadata": {},
   "source": [
    "class Insect:\n",
    "    def __init__(self):\n",
    "        self.legs = 6\n",
    "\n",
    "class Ant(Insect):\n",
    "    pass\n",
    "\n",
    "ant = Ant()\n",
    "print(ant.legs)"
   ]
  },
  {
   "cell_type": "markdown",
   "metadata": {},
   "source": [
    "Here, the `Ant` class is defined with the `Insect` class as its parent (its\n",
    "*superclass*). Since the `Ant` class does not have an `__init__` function, it\n",
    "inherits it automatically from the `Insect` class.\n",
    "\n",
    "A class can also refer to its parent manually through the `super()` function."
   ]
  },
  {
   "cell_type": "markdown",
   "metadata": {},
   "source": [
    "class Insect:\n",
    "    def buzz(self):\n",
    "        print('buzzzz')\n",
    "\n",
    "class Ant:\n",
    "    def __init__(self):\n",
    "        super(Ant, self).buzz()\n",
    "\n",
    "ant = Ant()"
   ]
  },
  {
   "cell_type": "markdown",
   "metadata": {},
   "source": [
    "In the above example, the `Ant` class calls the `buzz()` method of the\n",
    "superclass `Insect` during instantiation.\n",
    "\n",
    "There are some *magic methods* that allow special behavior."
   ]
  },
  {
   "cell_type": "markdown",
   "metadata": {},
   "source": [
    "class FakeDict:\n",
    "    def __getitem__(self, key):\n",
    "        return 'Hello there!'\n",
    "\n",
    "a = FakeDict()\n",
    "print(a['just like a dictionary!'])"
   ]
  },
  {
   "cell_type": "markdown",
   "metadata": {},
   "source": [
    "## Tools\n",
    "\n",
    "### pip\n",
    "\n",
    "`pip` is a commandline program that retrieves and installs Python packages from\n",
    "a remote server called PyPI, the Python Package Index.\n",
    "\n",
    "### conda\n",
    "\n",
    "`conda` is a package manager, just like pip but with its own server, and a\n",
    "virtual environment manager. It creates a folder per virtual environment and\n",
    "manages packages separately.\n",
    "\n",
    "In Ubuntu or macOS, the virtual environment is opened with\n",
    "`source activate ENV`, where ENV is the name of the environment. In Windows,\n",
    "according to the conda version, it is either `activate ENV` or\n",
    "`conda activate ENV`.\n",
    "\n",
    "### pdb\n",
    "\n",
    "You can create stop points within `.py` files to bring up the interpreter at\n",
    "the specified place.\n",
    "\n",
    "import pdb\n",
    "pdb.set_trace()\n",
    "\n",
    "### pylint\n",
    "\n",
    "Pylint is a linting tool that checks for PEP8 coding style compliance."
   ]
  }
 ],
 "metadata": {
  "kernelspec": {
   "display_name": "Python 3",
   "language": "python",
   "name": "python3"
  },
  "language_info": {
   "codemirror_mode": {
    "name": "ipython",
    "version": 3
   },
   "file_extension": ".py",
   "mimetype": "text/x-python",
   "name": "python",
   "nbconvert_exporter": "python",
   "pygments_lexer": "ipython3",
   "version": "3.6.5"
  }
 },
 "nbformat": 4,
 "nbformat_minor": 2
}
